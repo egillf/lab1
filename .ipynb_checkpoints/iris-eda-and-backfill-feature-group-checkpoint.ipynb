{
 "cells": [
  {
   "cell_type": "code",
   "execution_count": 1,
   "id": "5e332935",
   "metadata": {},
   "outputs": [],
   "source": [
    "import seaborn as sns\n",
    "sns.set_palette('husl')\n",
    "import matplotlib.pyplot as plt\n",
    "%matplotlib inline"
   ]
  },
  {
   "cell_type": "code",
   "execution_count": 2,
   "id": "b720e1e6",
   "metadata": {},
   "outputs": [
    {
     "ename": "ModuleNotFoundError",
     "evalue": "No module named 'hopsworks'",
     "output_type": "error",
     "traceback": [
      "\u001b[1;31m---------------------------------------------------------------------------\u001b[0m",
      "\u001b[1;31mModuleNotFoundError\u001b[0m                       Traceback (most recent call last)",
      "Cell \u001b[1;32mIn[2], line 1\u001b[0m\n\u001b[1;32m----> 1\u001b[0m \u001b[38;5;28;01mimport\u001b[39;00m \u001b[38;5;21;01mhopsworks\u001b[39;00m\n\u001b[0;32m      2\u001b[0m \u001b[38;5;28;01mimport\u001b[39;00m \u001b[38;5;21;01mpandas\u001b[39;00m \u001b[38;5;28;01mas\u001b[39;00m \u001b[38;5;21;01mpd\u001b[39;00m\n",
      "\u001b[1;31mModuleNotFoundError\u001b[0m: No module named 'hopsworks'"
     ]
    }
   ],
   "source": [
    "import hopsworks\n",
    "import pandas as pd"
   ]
  },
  {
   "cell_type": "code",
   "execution_count": null,
   "id": "7f74f260",
   "metadata": {},
   "outputs": [],
   "source": [
    "project = hopsworks.login()\n",
    "fs = project.get_feature_store()"
   ]
  },
  {
   "cell_type": "code",
   "execution_count": null,
   "id": "d6e407db",
   "metadata": {},
   "outputs": [],
   "source": [
    "iris_df = pd.read_csv(\"https://repo.hops.works/master/hopsworks-tutorials/data/iris.csv\")\n",
    "iris_df"
   ]
  },
  {
   "cell_type": "code",
   "execution_count": null,
   "id": "67922f4f",
   "metadata": {},
   "outputs": [],
   "source": [
    "iris_df.info()"
   ]
  },
  {
   "cell_type": "code",
   "execution_count": null,
   "id": "28d13684",
   "metadata": {},
   "outputs": [],
   "source": [
    "iris_df.describe()"
   ]
  },
  {
   "cell_type": "code",
   "execution_count": null,
   "id": "d96706c5",
   "metadata": {},
   "outputs": [],
   "source": [
    "iris_df['variety'].value_counts()"
   ]
  },
  {
   "cell_type": "markdown",
   "id": "a5fb8439",
   "metadata": {},
   "source": [
    "### Exploratory Data Analysis (EDA)  our Iris Data\n",
    "\n",
    "Let's look at our iris flower - the distribution and range of values for the 4 different features\n",
    " * sepal_length\n",
    " * sepal_width\n",
    " * petal_length\n",
    " * petal_width\n",
    " \n",
    " and the target variable is `variety`."
   ]
  },
  {
   "cell_type": "code",
   "execution_count": null,
   "id": "50e845fb",
   "metadata": {},
   "outputs": [],
   "source": [
    "g = sns.pairplot(iris_df, hue='variety', markers='+')\n",
    "plt.show()"
   ]
  },
  {
   "cell_type": "markdown",
   "id": "7b0c499a",
   "metadata": {},
   "source": [
    "### Visualize range of values \n",
    "\n",
    "We want to design a simulator generate the 3 types of iris flower (setosa, versicolor, virginica).\n",
    "To do this, we can visualize the range of values for the length and width of the sepal and petal for each of the 3 flowers."
   ]
  },
  {
   "cell_type": "code",
   "execution_count": null,
   "id": "69981de1",
   "metadata": {},
   "outputs": [],
   "source": [
    "g = sns.violinplot(y='variety', x='sepal_length', data=iris_df, inner='quartile')\n",
    "plt.show()\n",
    "g = sns.violinplot(y='variety', x='sepal_width', data=iris_df, inner='quartile')\n",
    "plt.show()\n",
    "g = sns.violinplot(y='variety', x='petal_length', data=iris_df, inner='quartile')\n",
    "plt.show()\n",
    "g = sns.violinplot(y='variety', x='petal_width', data=iris_df, inner='quartile')\n",
    "plt.show()"
   ]
  },
  {
   "cell_type": "markdown",
   "id": "6e6adb93",
   "metadata": {},
   "source": [
    "### Insert our Iris DataFrame into a FeatureGroup\n",
    "Let's write our historical iris feature values and labels to a feature group.\n",
    "When you write historical data, this process is called `backfilling`."
   ]
  },
  {
   "cell_type": "code",
   "execution_count": 3,
   "id": "6df9d07f",
   "metadata": {},
   "outputs": [
    {
     "ename": "NameError",
     "evalue": "name 'fs' is not defined",
     "output_type": "error",
     "traceback": [
      "\u001b[1;31m---------------------------------------------------------------------------\u001b[0m",
      "\u001b[1;31mNameError\u001b[0m                                 Traceback (most recent call last)",
      "Cell \u001b[1;32mIn[3], line 1\u001b[0m\n\u001b[1;32m----> 1\u001b[0m iris_fg \u001b[38;5;241m=\u001b[39m fs\u001b[38;5;241m.\u001b[39mget_or_create_feature_group(\n\u001b[0;32m      2\u001b[0m     name\u001b[38;5;241m=\u001b[39m\u001b[38;5;124m\"\u001b[39m\u001b[38;5;124miris\u001b[39m\u001b[38;5;124m\"\u001b[39m,\n\u001b[0;32m      3\u001b[0m     version\u001b[38;5;241m=\u001b[39m\u001b[38;5;241m1\u001b[39m,\n\u001b[0;32m      4\u001b[0m     primary_key\u001b[38;5;241m=\u001b[39m[\u001b[38;5;124m\"\u001b[39m\u001b[38;5;124msepal_length\u001b[39m\u001b[38;5;124m\"\u001b[39m,\u001b[38;5;124m\"\u001b[39m\u001b[38;5;124msepal_width\u001b[39m\u001b[38;5;124m\"\u001b[39m,\u001b[38;5;124m\"\u001b[39m\u001b[38;5;124mpetal_length\u001b[39m\u001b[38;5;124m\"\u001b[39m,\u001b[38;5;124m\"\u001b[39m\u001b[38;5;124mpetal_width\u001b[39m\u001b[38;5;124m\"\u001b[39m], \n\u001b[0;32m      5\u001b[0m     description\u001b[38;5;241m=\u001b[39m\u001b[38;5;124m\"\u001b[39m\u001b[38;5;124mIris flower dataset\u001b[39m\u001b[38;5;124m\"\u001b[39m)\n\u001b[0;32m      6\u001b[0m iris_fg\u001b[38;5;241m.\u001b[39minsert(iris_df)\n",
      "\u001b[1;31mNameError\u001b[0m: name 'fs' is not defined"
     ]
    }
   ],
   "source": [
    "iris_fg = fs.get_or_create_feature_group(\n",
    "    name=\"iris\",\n",
    "    version=1,\n",
    "    primary_key=[\"sepal_length\",\"sepal_width\",\"petal_length\",\"petal_width\"], \n",
    "    description=\"Iris flower dataset\")\n",
    "iris_fg.insert(iris_df)"
   ]
  },
  {
   "cell_type": "markdown",
   "id": "e0520ac0",
   "metadata": {},
   "source": [
    "### Data Validation\n",
    "If you want, you can enable data validation for your feature group.\n",
    "The code below will prevent iris flower data from being written your your feature group if you write values outside the expected ranges."
   ]
  },
  {
   "cell_type": "code",
   "execution_count": 4,
   "id": "026c8802",
   "metadata": {},
   "outputs": [
    {
     "ename": "ModuleNotFoundError",
     "evalue": "No module named 'great_expectations'",
     "output_type": "error",
     "traceback": [
      "\u001b[1;31m---------------------------------------------------------------------------\u001b[0m",
      "\u001b[1;31mModuleNotFoundError\u001b[0m                       Traceback (most recent call last)",
      "Cell \u001b[1;32mIn[4], line 1\u001b[0m\n\u001b[1;32m----> 1\u001b[0m \u001b[38;5;28;01mfrom\u001b[39;00m \u001b[38;5;21;01mgreat_expectations\u001b[39;00m\u001b[38;5;21;01m.\u001b[39;00m\u001b[38;5;21;01mcore\u001b[39;00m \u001b[38;5;28;01mimport\u001b[39;00m ExpectationSuite, ExpectationConfiguration\n\u001b[0;32m      3\u001b[0m \u001b[38;5;28;01mdef\u001b[39;00m \u001b[38;5;21mexpect\u001b[39m(suite, column, min_val, max_val):\n\u001b[0;32m      4\u001b[0m     suite\u001b[38;5;241m.\u001b[39madd_expectation(\n\u001b[0;32m      5\u001b[0m     ExpectationConfiguration(\n\u001b[0;32m      6\u001b[0m         expectation_type\u001b[38;5;241m=\u001b[39m\u001b[38;5;124m\"\u001b[39m\u001b[38;5;124mexpect_column_values_to_be_between\u001b[39m\u001b[38;5;124m\"\u001b[39m,\n\u001b[1;32m   (...)\u001b[0m\n\u001b[0;32m     12\u001b[0m     )\n\u001b[0;32m     13\u001b[0m )\n",
      "\u001b[1;31mModuleNotFoundError\u001b[0m: No module named 'great_expectations'"
     ]
    }
   ],
   "source": [
    "from great_expectations.core import ExpectationSuite, ExpectationConfiguration\n",
    "\n",
    "def expect(suite, column, min_val, max_val):\n",
    "    suite.add_expectation(\n",
    "    ExpectationConfiguration(\n",
    "        expectation_type=\"expect_column_values_to_be_between\",\n",
    "        kwargs={\n",
    "            \"column\":column, \n",
    "            \"min_value\":min_val,\n",
    "            \"max_value\":max_val,\n",
    "        }\n",
    "    )\n",
    ")"
   ]
  },
  {
   "cell_type": "code",
   "execution_count": 5,
   "id": "9e345afd",
   "metadata": {},
   "outputs": [
    {
     "ename": "NameError",
     "evalue": "name 'ExpectationSuite' is not defined",
     "output_type": "error",
     "traceback": [
      "\u001b[1;31m---------------------------------------------------------------------------\u001b[0m",
      "\u001b[1;31mNameError\u001b[0m                                 Traceback (most recent call last)",
      "Cell \u001b[1;32mIn[5], line 1\u001b[0m\n\u001b[1;32m----> 1\u001b[0m suite \u001b[38;5;241m=\u001b[39m ExpectationSuite(expectation_suite_name\u001b[38;5;241m=\u001b[39m\u001b[38;5;124m\"\u001b[39m\u001b[38;5;124miris_dimensions\u001b[39m\u001b[38;5;124m\"\u001b[39m)\n\u001b[0;32m      3\u001b[0m expect(suite, \u001b[38;5;124m\"\u001b[39m\u001b[38;5;124msepal_length\u001b[39m\u001b[38;5;124m\"\u001b[39m, \u001b[38;5;241m4.5\u001b[39m, \u001b[38;5;241m8.0\u001b[39m)\n\u001b[0;32m      4\u001b[0m expect(suite, \u001b[38;5;124m\"\u001b[39m\u001b[38;5;124msepal_width\u001b[39m\u001b[38;5;124m\"\u001b[39m, \u001b[38;5;241m2.1\u001b[39m, \u001b[38;5;241m4.5\u001b[39m)\n",
      "\u001b[1;31mNameError\u001b[0m: name 'ExpectationSuite' is not defined"
     ]
    }
   ],
   "source": [
    "suite = ExpectationSuite(expectation_suite_name=\"iris_dimensions\")\n",
    "\n",
    "expect(suite, \"sepal_length\", 4.5, 8.0)\n",
    "expect(suite, \"sepal_width\", 2.1, 4.5)\n",
    "expect(suite, \"petal_length\", 1.2, 7)\n",
    "expect(suite, \"petal_width\", 0.2, 2.5)\n",
    "iris_fg.save_expectation_suite(expectation_suite=suite, validation_ingestion_policy=\"STRICT\")    "
   ]
  },
  {
   "cell_type": "code",
   "execution_count": null,
   "id": "14ead76e",
   "metadata": {},
   "outputs": [],
   "source": []
  },
  {
   "cell_type": "code",
   "execution_count": null,
   "id": "1580abfc",
   "metadata": {},
   "outputs": [],
   "source": []
  }
 ],
 "metadata": {
  "kernelspec": {
   "display_name": "Python 3 (ipykernel)",
   "language": "python",
   "name": "python3"
  },
  "language_info": {
   "codemirror_mode": {
    "name": "ipython",
    "version": 3
   },
   "file_extension": ".py",
   "mimetype": "text/x-python",
   "name": "python",
   "nbconvert_exporter": "python",
   "pygments_lexer": "ipython3",
   "version": "3.11.4"
  }
 },
 "nbformat": 4,
 "nbformat_minor": 5
}
